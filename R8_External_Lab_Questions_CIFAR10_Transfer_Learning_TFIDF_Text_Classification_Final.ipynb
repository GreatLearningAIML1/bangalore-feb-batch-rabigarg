{
  "nbformat": 4,
  "nbformat_minor": 0,
  "metadata": {
    "colab": {
      "name": "R8_External_Lab_Questions_CIFAR10_Transfer_Learning_TFIDF_Text_Classification.ipynb",
      "provenance": [],
      "collapsed_sections": []
    },
    "kernelspec": {
      "name": "python3",
      "display_name": "Python 3"
    }
  },
  "cells": [
    {
      "cell_type": "markdown",
      "metadata": {
        "id": "QGIsF1ADyJ58",
        "colab_type": "text"
      },
      "source": [
        "# Transfer Learning CIFAR10"
      ]
    },
    {
      "cell_type": "markdown",
      "metadata": {
        "id": "E-n6tVFayGBe",
        "colab_type": "text"
      },
      "source": [
        "* Train a simple convnet on the CIFAR dataset the first 5 output classes [0..4].\n",
        "* Freeze convolutional layers and fine-tune dense layers for the last 5 ouput classes [5..9].\n"
      ]
    },
    {
      "cell_type": "markdown",
      "metadata": {
        "id": "Cq8ejXHJyGYq",
        "colab_type": "text"
      },
      "source": [
        "### 1. Import CIFAR10 data and create 2 datasets with one dataset having classes from 0 to 4 and other having classes from 5 to 9 "
      ]
    },
    {
      "cell_type": "code",
      "metadata": {
        "id": "uWYbxnBayFUP",
        "colab_type": "code",
        "colab": {}
      },
      "source": [
        "from keras.datasets import cifar10\n",
        "import numpy as np"
      ],
      "execution_count": 0,
      "outputs": []
    },
    {
      "cell_type": "code",
      "metadata": {
        "id": "UaZ_XJYO9-It",
        "colab_type": "code",
        "colab": {}
      },
      "source": [
        "(X_train, y_train), (X_test, y_test) = cifar10.load_data()"
      ],
      "execution_count": 0,
      "outputs": []
    },
    {
      "cell_type": "code",
      "metadata": {
        "id": "V-_gU6mv9-Vw",
        "colab_type": "code",
        "outputId": "9ad57d6c-ad14-47ed-ddda-73ad02f91d91",
        "colab": {
          "base_uri": "https://localhost:8080/",
          "height": 34
        }
      },
      "source": [
        "print(\"train data size: \",X_train.shape)"
      ],
      "execution_count": 79,
      "outputs": [
        {
          "output_type": "stream",
          "text": [
            "train data size:  (50000, 32, 32, 3)\n"
          ],
          "name": "stdout"
        }
      ]
    },
    {
      "cell_type": "code",
      "metadata": {
        "id": "EnokszTF9-ZT",
        "colab_type": "code",
        "colab": {
          "base_uri": "https://localhost:8080/",
          "height": 34
        },
        "outputId": "ffcf443b-b59f-403a-e09c-8b9c63f33d85"
      },
      "source": [
        "type(y_train)"
      ],
      "execution_count": 80,
      "outputs": [
        {
          "output_type": "execute_result",
          "data": {
            "text/plain": [
              "numpy.ndarray"
            ]
          },
          "metadata": {
            "tags": []
          },
          "execution_count": 80
        }
      ]
    },
    {
      "cell_type": "code",
      "metadata": {
        "id": "wC_fu07OJe_5",
        "colab_type": "code",
        "colab": {
          "base_uri": "https://localhost:8080/",
          "height": 34
        },
        "outputId": "1b9a8fe3-e0a9-40ec-94ca-ae3e29109361"
      },
      "source": [
        "np.unique(y_train)"
      ],
      "execution_count": 81,
      "outputs": [
        {
          "output_type": "execute_result",
          "data": {
            "text/plain": [
              "array([0, 1, 2, 3, 4, 5, 6, 7, 8, 9], dtype=uint8)"
            ]
          },
          "metadata": {
            "tags": []
          },
          "execution_count": 81
        }
      ]
    },
    {
      "cell_type": "code",
      "metadata": {
        "id": "ZiFyGJxYJoFL",
        "colab_type": "code",
        "colab": {
          "base_uri": "https://localhost:8080/",
          "height": 34
        },
        "outputId": "4afa3384-0989-4fab-acb4-bdcabbaf189e"
      },
      "source": [
        "y_train.shape"
      ],
      "execution_count": 82,
      "outputs": [
        {
          "output_type": "execute_result",
          "data": {
            "text/plain": [
              "(50000, 1)"
            ]
          },
          "metadata": {
            "tags": []
          },
          "execution_count": 82
        }
      ]
    },
    {
      "cell_type": "code",
      "metadata": {
        "id": "8eHiupRlNck4",
        "colab_type": "code",
        "colab": {}
      },
      "source": [
        "y_train = y_train.reshape(y_train.shape[0],)\n",
        "y_test = y_test.reshape(y_test.shape[0],)"
      ],
      "execution_count": 0,
      "outputs": []
    },
    {
      "cell_type": "code",
      "metadata": {
        "id": "u1g4RV31Ncov",
        "colab_type": "code",
        "colab": {
          "base_uri": "https://localhost:8080/",
          "height": 34
        },
        "outputId": "4ec05a7b-b794-49d2-de87-4fd845cfb3ce"
      },
      "source": [
        "y_test.shape"
      ],
      "execution_count": 84,
      "outputs": [
        {
          "output_type": "execute_result",
          "data": {
            "text/plain": [
              "(10000,)"
            ]
          },
          "metadata": {
            "tags": []
          },
          "execution_count": 84
        }
      ]
    },
    {
      "cell_type": "code",
      "metadata": {
        "id": "xom4zXSDOIV9",
        "colab_type": "code",
        "colab": {
          "base_uri": "https://localhost:8080/",
          "height": 34
        },
        "outputId": "74f00772-6bff-4681-db1b-d3474c4a40ad"
      },
      "source": [
        "np.unique(y_train)"
      ],
      "execution_count": 85,
      "outputs": [
        {
          "output_type": "execute_result",
          "data": {
            "text/plain": [
              "array([0, 1, 2, 3, 4, 5, 6, 7, 8, 9], dtype=uint8)"
            ]
          },
          "metadata": {
            "tags": []
          },
          "execution_count": 85
        }
      ]
    },
    {
      "cell_type": "code",
      "metadata": {
        "id": "xCgyDf8XKNY7",
        "colab_type": "code",
        "colab": {
          "base_uri": "https://localhost:8080/",
          "height": 153
        },
        "outputId": "49aa8df4-7684-4a92-f287-0b4d3e6b29f5"
      },
      "source": [
        "X_train_0_4 = X_train[y_train < 5]\n",
        "X_train_5_9 = X_train[(y_train <= 9) & (y_train > 4)]\n",
        "y_train_0_4 = y_train[y_train < 5]\n",
        "y_train_5_9 = y_train[(y_train <= 9) & (y_train > 4)]\n",
        "\n",
        "X_test_0_4 = X_test[y_test < 5]\n",
        "X_test_5_9 = X_test[(y_test <= 9) & (y_test > 4)]\n",
        "y_test_0_4 = y_test[y_test < 5]\n",
        "y_test_5_9 = y_test[(y_test <= 9) & (y_test > 4)]\n",
        "\n",
        "\n",
        "print(X_train_0_4.shape)\n",
        "print(X_train_5_9.shape)\n",
        "print(X_test_0_4.shape)\n",
        "print(X_test_5_9.shape)\n",
        "print(y_train_0_4.shape)\n",
        "print(y_train_5_9.shape)\n",
        "print(y_test_0_4.shape)\n",
        "print(y_test_5_9.shape)"
      ],
      "execution_count": 86,
      "outputs": [
        {
          "output_type": "stream",
          "text": [
            "(25000, 32, 32, 3)\n",
            "(25000, 32, 32, 3)\n",
            "(5000, 32, 32, 3)\n",
            "(5000, 32, 32, 3)\n",
            "(25000,)\n",
            "(25000,)\n",
            "(5000,)\n",
            "(5000,)\n"
          ],
          "name": "stdout"
        }
      ]
    },
    {
      "cell_type": "code",
      "metadata": {
        "id": "kLPgOzbJqFZq",
        "colab_type": "code",
        "colab": {
          "base_uri": "https://localhost:8080/",
          "height": 34
        },
        "outputId": "0d64f715-2db3-4add-8e48-fab3b314512a"
      },
      "source": [
        "X_train_0_4.dtype"
      ],
      "execution_count": 87,
      "outputs": [
        {
          "output_type": "execute_result",
          "data": {
            "text/plain": [
              "dtype('uint8')"
            ]
          },
          "metadata": {
            "tags": []
          },
          "execution_count": 87
        }
      ]
    },
    {
      "cell_type": "code",
      "metadata": {
        "id": "xN0l9J4LqFeV",
        "colab_type": "code",
        "colab": {}
      },
      "source": [
        ""
      ],
      "execution_count": 0,
      "outputs": []
    },
    {
      "cell_type": "markdown",
      "metadata": {
        "id": "xtCKmQh4yXhT",
        "colab_type": "text"
      },
      "source": [
        "### 2. Use One-hot encoding to divide y_train and y_test into required no of output classes"
      ]
    },
    {
      "cell_type": "code",
      "metadata": {
        "id": "uN5O2kJ3yYa6",
        "colab_type": "code",
        "colab": {}
      },
      "source": [
        ""
      ],
      "execution_count": 0,
      "outputs": []
    },
    {
      "cell_type": "code",
      "metadata": {
        "id": "gXgShrFmR_VF",
        "colab_type": "code",
        "colab": {
          "base_uri": "https://localhost:8080/",
          "height": 51
        },
        "outputId": "134e885d-6a0d-4951-9e2b-848a2b5ce34f"
      },
      "source": [
        "print (X_train_0_4.shape, X_test_0_4.shape)\n",
        "print (y_train_0_4.shape, y_test_0_4.shape)"
      ],
      "execution_count": 88,
      "outputs": [
        {
          "output_type": "stream",
          "text": [
            "(25000, 32, 32, 3) (5000, 32, 32, 3)\n",
            "(25000,) (5000,)\n"
          ],
          "name": "stdout"
        }
      ]
    },
    {
      "cell_type": "code",
      "metadata": {
        "id": "o7kDHWmpqnvz",
        "colab_type": "code",
        "colab": {}
      },
      "source": [
        "X_train_0_4 = np.asarray(X_train_0_4).reshape((-1, 32, 32, 3))\n",
        "X_test_0_4 = np.asarray(X_test_0_4).reshape((-1, 32, 32, 3))\n",
        "X_train_5_9 = np.asarray(X_train_5_9).reshape((-1, 32, 32, 3))\n",
        "X_test_5_9 = np.asarray(X_test_5_9).reshape((-1, 32, 32, 3))"
      ],
      "execution_count": 0,
      "outputs": []
    },
    {
      "cell_type": "code",
      "metadata": {
        "id": "eOrd-ivAsh0Y",
        "colab_type": "code",
        "colab": {
          "base_uri": "https://localhost:8080/",
          "height": 34
        },
        "outputId": "97edabe5-5383-4f66-c5a2-aec1de462777"
      },
      "source": [
        "X_train_0_4.dtype"
      ],
      "execution_count": 90,
      "outputs": [
        {
          "output_type": "execute_result",
          "data": {
            "text/plain": [
              "dtype('uint8')"
            ]
          },
          "metadata": {
            "tags": []
          },
          "execution_count": 90
        }
      ]
    },
    {
      "cell_type": "code",
      "metadata": {
        "id": "xHb5-rtyse2n",
        "colab_type": "code",
        "colab": {}
      },
      "source": [
        "X_train_0_4 = X_train_0_4.astype('float32')/255\n",
        "X_test_0_4 = X_test_0_4.astype('float32')/255\n",
        "X_train_5_9 = X_train_5_9.astype('float32')/255\n",
        "X_test_5_9 = X_test_5_9.astype('float32')/255"
      ],
      "execution_count": 0,
      "outputs": []
    },
    {
      "cell_type": "code",
      "metadata": {
        "id": "SxcL0xOQqn1x",
        "colab_type": "code",
        "colab": {
          "base_uri": "https://localhost:8080/",
          "height": 153
        },
        "outputId": "5410bc2f-6cb9-43d6-f37e-9864711da865"
      },
      "source": [
        "print(X_train_0_4.shape)\n",
        "print(X_train_5_9.shape)\n",
        "print(X_test_0_4.shape)\n",
        "print(X_test_5_9.shape)\n",
        "print(y_train_0_4.shape)\n",
        "print(y_train_5_9.shape)\n",
        "print(y_test_0_4.shape)\n",
        "print(y_test_5_9.shape)"
      ],
      "execution_count": 92,
      "outputs": [
        {
          "output_type": "stream",
          "text": [
            "(25000, 32, 32, 3)\n",
            "(25000, 32, 32, 3)\n",
            "(5000, 32, 32, 3)\n",
            "(5000, 32, 32, 3)\n",
            "(25000,)\n",
            "(25000,)\n",
            "(5000,)\n",
            "(5000,)\n"
          ],
          "name": "stdout"
        }
      ]
    },
    {
      "cell_type": "code",
      "metadata": {
        "id": "scZrJc1fs_Tk",
        "colab_type": "code",
        "colab": {}
      },
      "source": [
        "import keras\n",
        "from keras.utils import np_utils\n",
        "y_train_0_4 = np_utils.to_categorical(np.asarray(y_train_0_4), num_classes=5)\n",
        "y_test_0_4 = np_utils.to_categorical(np.asarray(y_test_0_4), num_classes=5)\n",
        "\n",
        "#y_train_5_9 = np_utils.to_categorical(np.asarray(y_train_5_9), num_classes=10)\n",
        "#y_test_5_9 = np_utils.to_categorical(np.asarray(y_test_5_9), num_classes=10)\n",
        "\n",
        "\n",
        "\n",
        "y_train_5_9 = y_train_5_9-5\n",
        "y_test_5_9 = y_test_5_9-5\n",
        "#y_train_5_9 = keras.utils.to_categorical(y_train_5_9,num_classes=5) \n",
        "#y_test_5_9 = keras.utils.to_categorical(y_test_5_9,num_classes=5)\n",
        "y_train_5_9 = np_utils.to_categorical(np.asarray(y_train_5_9), num_classes=5)\n",
        "y_test_5_9 = np_utils.to_categorical(np.asarray(y_test_5_9), num_classes=5)\n"
      ],
      "execution_count": 0,
      "outputs": []
    },
    {
      "cell_type": "markdown",
      "metadata": {
        "id": "cuOiKWfeybAl",
        "colab_type": "text"
      },
      "source": [
        "### 3. Build a sequential neural network model which can classify the classes 0 to 4 of CIFAR10 dataset with at least 80% accuracy on test data"
      ]
    },
    {
      "cell_type": "code",
      "metadata": {
        "id": "5HzxNbiiyoBD",
        "colab_type": "code",
        "colab": {
          "base_uri": "https://localhost:8080/",
          "height": 615
        },
        "outputId": "51aab1cf-4501-42ae-e582-a6959fdfb574"
      },
      "source": [
        "from keras.models import Sequential\n",
        "from keras.layers import Dense, Convolution2D, Flatten, Activation, MaxPooling2D, Dropout\n",
        "\n",
        "model = Sequential()\n",
        "\n",
        "model.add(Convolution2D(32, 5, 5, input_shape=(32, 32, 3), activation='relu'))\n",
        "model.add(Convolution2D(16, 5, 5, activation='relu'))\n",
        "model.add(MaxPooling2D(pool_size=(2,2)))\n",
        "model.add(Convolution2D(8, 3, 3, activation='relu'))\n",
        "model.add(Flatten())\n",
        "model.add(Dropout(0.42))\n",
        "\n",
        "model.add(Dense(128))\n",
        "model.add(Activation('relu'))\n",
        "\n",
        "model.add(Dense(5))\n",
        "model.add(Activation('softmax'))\n",
        "\n",
        "model.summary()"
      ],
      "execution_count": 99,
      "outputs": [
        {
          "output_type": "stream",
          "text": [
            "Model: \"sequential_8\"\n",
            "_________________________________________________________________\n",
            "Layer (type)                 Output Shape              Param #   \n",
            "=================================================================\n",
            "conv2d_10 (Conv2D)           (None, 28, 28, 32)        2432      \n",
            "_________________________________________________________________\n",
            "conv2d_11 (Conv2D)           (None, 24, 24, 16)        12816     \n",
            "_________________________________________________________________\n",
            "max_pooling2d_4 (MaxPooling2 (None, 12, 12, 16)        0         \n",
            "_________________________________________________________________\n",
            "conv2d_12 (Conv2D)           (None, 10, 10, 8)         1160      \n",
            "_________________________________________________________________\n",
            "flatten_4 (Flatten)          (None, 800)               0         \n",
            "_________________________________________________________________\n",
            "dropout_4 (Dropout)          (None, 800)               0         \n",
            "_________________________________________________________________\n",
            "dense_7 (Dense)              (None, 128)               102528    \n",
            "_________________________________________________________________\n",
            "activation_7 (Activation)    (None, 128)               0         \n",
            "_________________________________________________________________\n",
            "dense_8 (Dense)              (None, 5)                 645       \n",
            "_________________________________________________________________\n",
            "activation_8 (Activation)    (None, 5)                 0         \n",
            "=================================================================\n",
            "Total params: 119,581\n",
            "Trainable params: 119,581\n",
            "Non-trainable params: 0\n",
            "_________________________________________________________________\n"
          ],
          "name": "stdout"
        },
        {
          "output_type": "stream",
          "text": [
            "/usr/local/lib/python3.6/dist-packages/ipykernel_launcher.py:6: UserWarning: Update your `Conv2D` call to the Keras 2 API: `Conv2D(32, (5, 5), input_shape=(32, 32, 3..., activation=\"relu\")`\n",
            "  \n",
            "/usr/local/lib/python3.6/dist-packages/ipykernel_launcher.py:7: UserWarning: Update your `Conv2D` call to the Keras 2 API: `Conv2D(16, (5, 5), activation=\"relu\")`\n",
            "  import sys\n",
            "/usr/local/lib/python3.6/dist-packages/ipykernel_launcher.py:9: UserWarning: Update your `Conv2D` call to the Keras 2 API: `Conv2D(8, (3, 3), activation=\"relu\")`\n",
            "  if __name__ == '__main__':\n"
          ],
          "name": "stderr"
        }
      ]
    },
    {
      "cell_type": "code",
      "metadata": {
        "id": "Zb5tZ-HgYBdb",
        "colab_type": "code",
        "colab": {}
      },
      "source": [
        "model.compile(loss='categorical_crossentropy', optimizer='adam', metrics=['accuracy'])"
      ],
      "execution_count": 0,
      "outputs": []
    },
    {
      "cell_type": "code",
      "metadata": {
        "id": "EWUZ5K_AYFPS",
        "colab_type": "code",
        "colab": {
          "base_uri": "https://localhost:8080/",
          "height": 884
        },
        "outputId": "dfd53be2-5be2-4198-f706-932ae77a940e"
      },
      "source": [
        "hist1 = model.fit(X_train_0_4, y_train_0_4,\n",
        "         epochs=25,\n",
        "         shuffle=True,\n",
        "         batch_size=128,\n",
        "         validation_data=(X_test_0_4, y_test_0_4) )"
      ],
      "execution_count": 103,
      "outputs": [
        {
          "output_type": "stream",
          "text": [
            "Train on 25000 samples, validate on 5000 samples\n",
            "Epoch 1/25\n",
            "25000/25000 [==============================] - 91s 4ms/step - loss: 0.9610 - acc: 0.6112 - val_loss: 0.8808 - val_acc: 0.6532\n",
            "Epoch 2/25\n",
            "25000/25000 [==============================] - 90s 4ms/step - loss: 0.9111 - acc: 0.6309 - val_loss: 0.8613 - val_acc: 0.6466\n",
            "Epoch 3/25\n",
            "25000/25000 [==============================] - 92s 4ms/step - loss: 0.8838 - acc: 0.6484 - val_loss: 0.8782 - val_acc: 0.6564\n",
            "Epoch 4/25\n",
            "25000/25000 [==============================] - 91s 4ms/step - loss: 0.8480 - acc: 0.6612 - val_loss: 0.8080 - val_acc: 0.6824\n",
            "Epoch 5/25\n",
            "25000/25000 [==============================] - 89s 4ms/step - loss: 0.8190 - acc: 0.6752 - val_loss: 0.7959 - val_acc: 0.6858\n",
            "Epoch 6/25\n",
            "25000/25000 [==============================] - 90s 4ms/step - loss: 0.8037 - acc: 0.6838 - val_loss: 0.7933 - val_acc: 0.6856\n",
            "Epoch 7/25\n",
            "25000/25000 [==============================] - 90s 4ms/step - loss: 0.7764 - acc: 0.6950 - val_loss: 0.8413 - val_acc: 0.6716\n",
            "Epoch 8/25\n",
            "25000/25000 [==============================] - 90s 4ms/step - loss: 0.7619 - acc: 0.7010 - val_loss: 0.7769 - val_acc: 0.6986\n",
            "Epoch 9/25\n",
            "25000/25000 [==============================] - 89s 4ms/step - loss: 0.7331 - acc: 0.7144 - val_loss: 0.7937 - val_acc: 0.6888\n",
            "Epoch 10/25\n",
            "25000/25000 [==============================] - 89s 4ms/step - loss: 0.7228 - acc: 0.7194 - val_loss: 0.7690 - val_acc: 0.7012\n",
            "Epoch 11/25\n",
            "25000/25000 [==============================] - 89s 4ms/step - loss: 0.7036 - acc: 0.7275 - val_loss: 0.7720 - val_acc: 0.7020\n",
            "Epoch 12/25\n",
            "25000/25000 [==============================] - 92s 4ms/step - loss: 0.6900 - acc: 0.7315 - val_loss: 0.7361 - val_acc: 0.7190\n",
            "Epoch 13/25\n",
            "25000/25000 [==============================] - 89s 4ms/step - loss: 0.6786 - acc: 0.7384 - val_loss: 0.7271 - val_acc: 0.7198\n",
            "Epoch 14/25\n",
            "25000/25000 [==============================] - 89s 4ms/step - loss: 0.6639 - acc: 0.7410 - val_loss: 0.7408 - val_acc: 0.7100\n",
            "Epoch 15/25\n",
            "25000/25000 [==============================] - 90s 4ms/step - loss: 0.6513 - acc: 0.7482 - val_loss: 0.7260 - val_acc: 0.7170\n",
            "Epoch 16/25\n",
            "25000/25000 [==============================] - 90s 4ms/step - loss: 0.6384 - acc: 0.7532 - val_loss: 0.7211 - val_acc: 0.7218\n",
            "Epoch 17/25\n",
            "25000/25000 [==============================] - 89s 4ms/step - loss: 0.6374 - acc: 0.7554 - val_loss: 0.7184 - val_acc: 0.7216\n",
            "Epoch 18/25\n",
            "25000/25000 [==============================] - 89s 4ms/step - loss: 0.6213 - acc: 0.7623 - val_loss: 0.7093 - val_acc: 0.7330\n",
            "Epoch 19/25\n",
            "25000/25000 [==============================] - 89s 4ms/step - loss: 0.6042 - acc: 0.7676 - val_loss: 0.7429 - val_acc: 0.7170\n",
            "Epoch 20/25\n",
            "25000/25000 [==============================] - 88s 4ms/step - loss: 0.5957 - acc: 0.7730 - val_loss: 0.7167 - val_acc: 0.7202\n",
            "Epoch 21/25\n",
            "25000/25000 [==============================] - 91s 4ms/step - loss: 0.5929 - acc: 0.7732 - val_loss: 0.7619 - val_acc: 0.7050\n",
            "Epoch 22/25\n",
            "25000/25000 [==============================] - 91s 4ms/step - loss: 0.5724 - acc: 0.7806 - val_loss: 0.7845 - val_acc: 0.7156\n",
            "Epoch 23/25\n",
            "25000/25000 [==============================] - 91s 4ms/step - loss: 0.5538 - acc: 0.7862 - val_loss: 0.7007 - val_acc: 0.7340\n",
            "Epoch 24/25\n",
            "25000/25000 [==============================] - 91s 4ms/step - loss: 0.5578 - acc: 0.7875 - val_loss: 0.7168 - val_acc: 0.7318\n",
            "Epoch 25/25\n",
            "25000/25000 [==============================] - 91s 4ms/step - loss: 0.5442 - acc: 0.7869 - val_loss: 0.7351 - val_acc: 0.7230\n"
          ],
          "name": "stdout"
        }
      ]
    },
    {
      "cell_type": "code",
      "metadata": {
        "id": "WnDkQqYckKg2",
        "colab_type": "code",
        "colab": {}
      },
      "source": [
        "test_pred = model.predict_classes(X_test_0_4)"
      ],
      "execution_count": 0,
      "outputs": []
    },
    {
      "cell_type": "code",
      "metadata": {
        "id": "-IvRrDl1kLIh",
        "colab_type": "code",
        "colab": {
          "base_uri": "https://localhost:8080/",
          "height": 34
        },
        "outputId": "0984f605-7f2b-4ca8-f040-df22b13fdc56"
      },
      "source": [
        "score = model.evaluate(X_test_0_4, y_test_0_4)"
      ],
      "execution_count": 113,
      "outputs": [
        {
          "output_type": "stream",
          "text": [
            "5000/5000 [==============================] - 4s 766us/step\n"
          ],
          "name": "stdout"
        }
      ]
    },
    {
      "cell_type": "code",
      "metadata": {
        "id": "Hs5HtlcdkLME",
        "colab_type": "code",
        "colab": {
          "base_uri": "https://localhost:8080/",
          "height": 51
        },
        "outputId": "b8ea1f83-3661-43bd-e9f1-a84823108940"
      },
      "source": [
        "print('Test loss:', score[0])\n",
        "print('Test accuracy:', score[1])"
      ],
      "execution_count": 114,
      "outputs": [
        {
          "output_type": "stream",
          "text": [
            "Test loss: 0.7350716327667236\n",
            "Test accuracy: 0.723\n"
          ],
          "name": "stdout"
        }
      ]
    },
    {
      "cell_type": "markdown",
      "metadata": {
        "id": "woTfNst_ynRG",
        "colab_type": "text"
      },
      "source": [
        "### 4. In the model which was built above (for classification of classes 0-4 in CIFAR10), make only the dense layers to be trainable and conv layers to be non-trainable"
      ]
    },
    {
      "cell_type": "code",
      "metadata": {
        "id": "o_VCDB3Byb1a",
        "colab_type": "code",
        "colab": {}
      },
      "source": [
        "for loop in model.layers[:6]:\n",
        "    loop.trainable = False   \n"
      ],
      "execution_count": 0,
      "outputs": []
    },
    {
      "cell_type": "code",
      "metadata": {
        "id": "WcAs_Dhtkgsd",
        "colab_type": "code",
        "colab": {}
      },
      "source": [
        "trans_model = Sequential(model.layers[:6])"
      ],
      "execution_count": 0,
      "outputs": []
    },
    {
      "cell_type": "code",
      "metadata": {
        "id": "XD1Xamdgkjqn",
        "colab_type": "code",
        "colab": {
          "base_uri": "https://localhost:8080/",
          "height": 493
        },
        "outputId": "3b572fa1-2a3d-4830-d017-29b51a272155"
      },
      "source": [
        "trans_model.add(Dense(128))\n",
        "trans_model.add(Activation('relu'))\n",
        "trans_model.add(Dense(5))\n",
        "trans_model.add(Activation('softmax'))\n",
        "\n",
        "trans_model.summary()"
      ],
      "execution_count": 118,
      "outputs": [
        {
          "output_type": "stream",
          "text": [
            "Model: \"sequential_11\"\n",
            "_________________________________________________________________\n",
            "Layer (type)                 Output Shape              Param #   \n",
            "=================================================================\n",
            "conv2d_10 (Conv2D)           (None, 28, 28, 32)        2432      \n",
            "_________________________________________________________________\n",
            "conv2d_11 (Conv2D)           (None, 24, 24, 16)        12816     \n",
            "_________________________________________________________________\n",
            "max_pooling2d_4 (MaxPooling2 (None, 12, 12, 16)        0         \n",
            "_________________________________________________________________\n",
            "conv2d_12 (Conv2D)           (None, 10, 10, 8)         1160      \n",
            "_________________________________________________________________\n",
            "flatten_4 (Flatten)          (None, 800)               0         \n",
            "_________________________________________________________________\n",
            "dropout_4 (Dropout)          (None, 800)               0         \n",
            "_________________________________________________________________\n",
            "dense_11 (Dense)             (None, 128)               102528    \n",
            "_________________________________________________________________\n",
            "activation_11 (Activation)   (None, 128)               0         \n",
            "_________________________________________________________________\n",
            "dense_12 (Dense)             (None, 5)                 645       \n",
            "_________________________________________________________________\n",
            "activation_12 (Activation)   (None, 5)                 0         \n",
            "=================================================================\n",
            "Total params: 119,581\n",
            "Trainable params: 103,173\n",
            "Non-trainable params: 16,408\n",
            "_________________________________________________________________\n"
          ],
          "name": "stdout"
        }
      ]
    },
    {
      "cell_type": "code",
      "metadata": {
        "id": "L6eKQ6X5kjun",
        "colab_type": "code",
        "colab": {}
      },
      "source": [
        "trans_model.compile(loss='categorical_crossentropy', optimizer='adam', metrics=['accuracy'])"
      ],
      "execution_count": 0,
      "outputs": []
    },
    {
      "cell_type": "markdown",
      "metadata": {
        "id": "1-uUPqWpyeyX",
        "colab_type": "text"
      },
      "source": [
        "### 5. Utilize the the model trained on CIFAR 10 (classes 0 to 4) to classify the classes 5 to 9 of CIFAR 10  (Use Transfer Learning) <br>\n",
        "Achieve an accuracy of more than 85% on test data"
      ]
    },
    {
      "cell_type": "code",
      "metadata": {
        "id": "szHjJgDvyfCt",
        "colab_type": "code",
        "colab": {
          "base_uri": "https://localhost:8080/",
          "height": 884
        },
        "outputId": "6b6e8867-bd26-42cb-88f2-eb20985c64ad"
      },
      "source": [
        "hist2 = trans_model.fit(X_train_5_9, y_train_5_9, epochs=25, shuffle=True, batch_size=100, validation_data=(X_test_5_9, y_test_5_9))"
      ],
      "execution_count": 120,
      "outputs": [
        {
          "output_type": "stream",
          "text": [
            "Train on 25000 samples, validate on 5000 samples\n",
            "Epoch 1/25\n",
            "25000/25000 [==============================] - 22s 897us/step - loss: 0.8452 - acc: 0.6738 - val_loss: 0.7391 - val_acc: 0.7166\n",
            "Epoch 2/25\n",
            "25000/25000 [==============================] - 21s 845us/step - loss: 0.7398 - acc: 0.7213 - val_loss: 0.6931 - val_acc: 0.7336\n",
            "Epoch 3/25\n",
            "25000/25000 [==============================] - 21s 849us/step - loss: 0.7000 - acc: 0.7333 - val_loss: 0.6744 - val_acc: 0.7412\n",
            "Epoch 4/25\n",
            "25000/25000 [==============================] - 21s 844us/step - loss: 0.6689 - acc: 0.7498 - val_loss: 0.6495 - val_acc: 0.7532\n",
            "Epoch 5/25\n",
            "25000/25000 [==============================] - 21s 846us/step - loss: 0.6367 - acc: 0.7610 - val_loss: 0.6332 - val_acc: 0.7582\n",
            "Epoch 6/25\n",
            "25000/25000 [==============================] - 21s 845us/step - loss: 0.6159 - acc: 0.7702 - val_loss: 0.6319 - val_acc: 0.7604\n",
            "Epoch 7/25\n",
            "25000/25000 [==============================] - 21s 846us/step - loss: 0.5948 - acc: 0.7765 - val_loss: 0.6140 - val_acc: 0.7708\n",
            "Epoch 8/25\n",
            "25000/25000 [==============================] - 21s 845us/step - loss: 0.5702 - acc: 0.7852 - val_loss: 0.6106 - val_acc: 0.7680\n",
            "Epoch 9/25\n",
            "25000/25000 [==============================] - 21s 844us/step - loss: 0.5530 - acc: 0.7938 - val_loss: 0.5977 - val_acc: 0.7754\n",
            "Epoch 10/25\n",
            "25000/25000 [==============================] - 21s 847us/step - loss: 0.5352 - acc: 0.8004 - val_loss: 0.5977 - val_acc: 0.7762\n",
            "Epoch 11/25\n",
            "25000/25000 [==============================] - 21s 854us/step - loss: 0.5238 - acc: 0.8051 - val_loss: 0.6032 - val_acc: 0.7760\n",
            "Epoch 12/25\n",
            "25000/25000 [==============================] - 21s 850us/step - loss: 0.5116 - acc: 0.8109 - val_loss: 0.5982 - val_acc: 0.7746\n",
            "Epoch 13/25\n",
            "25000/25000 [==============================] - 21s 855us/step - loss: 0.4989 - acc: 0.8120 - val_loss: 0.6034 - val_acc: 0.7766\n",
            "Epoch 14/25\n",
            "25000/25000 [==============================] - 22s 866us/step - loss: 0.4882 - acc: 0.8174 - val_loss: 0.6093 - val_acc: 0.7732\n",
            "Epoch 15/25\n",
            "25000/25000 [==============================] - 21s 856us/step - loss: 0.4753 - acc: 0.8220 - val_loss: 0.6004 - val_acc: 0.7730\n",
            "Epoch 16/25\n",
            "25000/25000 [==============================] - 21s 854us/step - loss: 0.4666 - acc: 0.8255 - val_loss: 0.5983 - val_acc: 0.7798\n",
            "Epoch 17/25\n",
            "25000/25000 [==============================] - 21s 855us/step - loss: 0.4610 - acc: 0.8257 - val_loss: 0.5981 - val_acc: 0.7730\n",
            "Epoch 18/25\n",
            "25000/25000 [==============================] - 21s 852us/step - loss: 0.4508 - acc: 0.8310 - val_loss: 0.5998 - val_acc: 0.7792\n",
            "Epoch 19/25\n",
            "25000/25000 [==============================] - 21s 850us/step - loss: 0.4441 - acc: 0.8316 - val_loss: 0.6083 - val_acc: 0.7772\n",
            "Epoch 20/25\n",
            "25000/25000 [==============================] - 21s 850us/step - loss: 0.4297 - acc: 0.8393 - val_loss: 0.6105 - val_acc: 0.7744\n",
            "Epoch 21/25\n",
            "25000/25000 [==============================] - 21s 848us/step - loss: 0.4220 - acc: 0.8408 - val_loss: 0.6035 - val_acc: 0.7770\n",
            "Epoch 22/25\n",
            "25000/25000 [==============================] - 21s 847us/step - loss: 0.4169 - acc: 0.8453 - val_loss: 0.6106 - val_acc: 0.7738\n",
            "Epoch 23/25\n",
            "25000/25000 [==============================] - 21s 847us/step - loss: 0.4097 - acc: 0.8468 - val_loss: 0.6040 - val_acc: 0.7822\n",
            "Epoch 24/25\n",
            "25000/25000 [==============================] - 21s 849us/step - loss: 0.3994 - acc: 0.8519 - val_loss: 0.6144 - val_acc: 0.7770\n",
            "Epoch 25/25\n",
            "25000/25000 [==============================] - 21s 852us/step - loss: 0.4021 - acc: 0.8478 - val_loss: 0.6117 - val_acc: 0.7806\n"
          ],
          "name": "stdout"
        }
      ]
    },
    {
      "cell_type": "code",
      "metadata": {
        "id": "iyV2qs3bKByd",
        "colab_type": "code",
        "colab": {}
      },
      "source": [
        "test_pred = trans_model.predict_classes(X_test_5_9)"
      ],
      "execution_count": 0,
      "outputs": []
    },
    {
      "cell_type": "code",
      "metadata": {
        "id": "xisaj_vZKE22",
        "colab_type": "code",
        "colab": {
          "base_uri": "https://localhost:8080/",
          "height": 34
        },
        "outputId": "a9f4ce60-e5e3-4943-af09-fe7517d12361"
      },
      "source": [
        "score = trans_model.evaluate(X_test_5_9, y_test_5_9)"
      ],
      "execution_count": 123,
      "outputs": [
        {
          "output_type": "stream",
          "text": [
            "5000/5000 [==============================] - 4s 746us/step\n"
          ],
          "name": "stdout"
        }
      ]
    },
    {
      "cell_type": "code",
      "metadata": {
        "id": "MWvky7aSKHm_",
        "colab_type": "code",
        "colab": {
          "base_uri": "https://localhost:8080/",
          "height": 51
        },
        "outputId": "76f8787d-cfbf-437c-ee50-269a90bc6bf0"
      },
      "source": [
        "print('Test loss:', score[0])\n",
        "print('Test accuracy:', score[1])"
      ],
      "execution_count": 124,
      "outputs": [
        {
          "output_type": "stream",
          "text": [
            "Test loss: 0.6117419322967529\n",
            "Test accuracy: 0.7806\n"
          ],
          "name": "stdout"
        }
      ]
    },
    {
      "cell_type": "markdown",
      "metadata": {
        "id": "0zDuRecXzEtr",
        "colab_type": "text"
      },
      "source": [
        "# Text classification using TF-IDF"
      ]
    },
    {
      "cell_type": "markdown",
      "metadata": {
        "id": "xMPlEJhHzb6P",
        "colab_type": "text"
      },
      "source": [
        "### 6. Load the dataset from sklearn.datasets"
      ]
    },
    {
      "cell_type": "code",
      "metadata": {
        "id": "MxckekWwlb2c",
        "colab_type": "code",
        "colab": {}
      },
      "source": [
        "from sklearn.datasets import fetch_20newsgroups"
      ],
      "execution_count": 0,
      "outputs": []
    },
    {
      "cell_type": "code",
      "metadata": {
        "id": "PRrMemVQzbHU",
        "colab_type": "code",
        "colab": {}
      },
      "source": [
        "categories = ['alt.atheism', 'soc.religion.christian', 'comp.graphics', 'sci.med']"
      ],
      "execution_count": 0,
      "outputs": []
    },
    {
      "cell_type": "markdown",
      "metadata": {
        "id": "-sZX0UbJzmg5",
        "colab_type": "text"
      },
      "source": [
        "### 7. Training data"
      ]
    },
    {
      "cell_type": "code",
      "metadata": {
        "id": "CITr_5aXziJ2",
        "colab_type": "code",
        "colab": {
          "base_uri": "https://localhost:8080/",
          "height": 51
        },
        "outputId": "ff6e1267-a6ba-4aac-bb64-c1b3b9a5b9a1"
      },
      "source": [
        "twenty_train = fetch_20newsgroups(subset='train', categories=categories, shuffle=True, random_state=42)"
      ],
      "execution_count": 127,
      "outputs": [
        {
          "output_type": "stream",
          "text": [
            "Downloading 20news dataset. This may take a few minutes.\n",
            "Downloading dataset from https://ndownloader.figshare.com/files/5975967 (14 MB)\n"
          ],
          "name": "stderr"
        }
      ]
    },
    {
      "cell_type": "markdown",
      "metadata": {
        "id": "xcESc5QXzr6p",
        "colab_type": "text"
      },
      "source": [
        "### 8. Test data"
      ]
    },
    {
      "cell_type": "code",
      "metadata": {
        "id": "ysInblUMzpvl",
        "colab_type": "code",
        "colab": {}
      },
      "source": [
        "twenty_test = fetch_20newsgroups(subset='test', categories=categories, shuffle=True, random_state=42)"
      ],
      "execution_count": 0,
      "outputs": []
    },
    {
      "cell_type": "markdown",
      "metadata": {
        "id": "DriL2yZ50DQq",
        "colab_type": "text"
      },
      "source": [
        "###  a.  You can access the values for the target variable using .target attribute \n",
        "###  b. You can access the name of the class in the target variable with .target_names\n"
      ]
    },
    {
      "cell_type": "code",
      "metadata": {
        "id": "vlUuai99z1hX",
        "colab_type": "code",
        "colab": {
          "base_uri": "https://localhost:8080/",
          "height": 34
        },
        "outputId": "971b4758-1ed1-4187-f704-8d5325897cba"
      },
      "source": [
        "twenty_train.target"
      ],
      "execution_count": 130,
      "outputs": [
        {
          "output_type": "execute_result",
          "data": {
            "text/plain": [
              "array([1, 1, 3, ..., 2, 2, 2])"
            ]
          },
          "metadata": {
            "tags": []
          },
          "execution_count": 130
        }
      ]
    },
    {
      "cell_type": "code",
      "metadata": {
        "id": "VEKzaDfSz5E-",
        "colab_type": "code",
        "colab": {
          "base_uri": "https://localhost:8080/",
          "height": 34
        },
        "outputId": "f20a961f-13a2-42fc-d754-11bbdbf4e2c8"
      },
      "source": [
        "twenty_train.target_names"
      ],
      "execution_count": 131,
      "outputs": [
        {
          "output_type": "execute_result",
          "data": {
            "text/plain": [
              "['alt.atheism', 'comp.graphics', 'sci.med', 'soc.religion.christian']"
            ]
          },
          "metadata": {
            "tags": []
          },
          "execution_count": 131
        }
      ]
    },
    {
      "cell_type": "code",
      "metadata": {
        "id": "clBMKHzC0_N1",
        "colab_type": "code",
        "colab": {
          "base_uri": "https://localhost:8080/",
          "height": 122
        },
        "outputId": "88733b55-1cc7-415f-d198-4c1fa7c88baa"
      },
      "source": [
        "twenty_train.data[0:5]"
      ],
      "execution_count": 132,
      "outputs": [
        {
          "output_type": "execute_result",
          "data": {
            "text/plain": [
              "['From: sd345@city.ac.uk (Michael Collier)\\nSubject: Converting images to HP LaserJet III?\\nNntp-Posting-Host: hampton\\nOrganization: The City University\\nLines: 14\\n\\nDoes anyone know of a good way (standard PC application/PD utility) to\\nconvert tif/img/tga files into LaserJet III format.  We would also like to\\ndo the same, converting to HPGL (HP plotter) files.\\n\\nPlease email any response.\\n\\nIs this the correct group?\\n\\nThanks in advance.  Michael.\\n-- \\nMichael Collier (Programmer)                 The Computer Unit,\\nEmail: M.P.Collier@uk.ac.city                The City University,\\nTel: 071 477-8000 x3769                      London,\\nFax: 071 477-8565                            EC1V 0HB.\\n',\n",
              " \"From: ani@ms.uky.edu (Aniruddha B. Deglurkar)\\nSubject: help: Splitting a trimming region along a mesh \\nOrganization: University Of Kentucky, Dept. of Math Sciences\\nLines: 28\\n\\n\\n\\n\\tHi,\\n\\n\\tI have a problem, I hope some of the 'gurus' can help me solve.\\n\\n\\tBackground of the problem:\\n\\tI have a rectangular mesh in the uv domain, i.e  the mesh is a \\n\\tmapping of a 3d Bezier patch into 2d. The area in this domain\\n\\twhich is inside a trimming loop had to be rendered. The trimming\\n\\tloop is a set of 2d Bezier curve segments.\\n\\tFor the sake of notation: the mesh is made up of cells.\\n\\n\\tMy problem is this :\\n\\tThe trimming area has to be split up into individual smaller\\n\\tcells bounded by the trimming curve segments. If a cell\\n\\tis wholly inside the area...then it is output as a whole ,\\n\\telse it is trivially rejected. \\n\\n\\tDoes any body know how thiss can be done, or is there any algo. \\n\\tsomewhere for doing this.\\n\\n\\tAny help would be appreciated.\\n\\n\\tThanks, \\n\\tAni.\\n-- \\nTo get irritated is human, to stay cool, divine.\\n\",\n",
              " \"From: djohnson@cs.ucsd.edu (Darin Johnson)\\nSubject: Re: harrassed at work, could use some prayers\\nOrganization: =CSE Dept., U.C. San Diego\\nLines: 63\\n\\n(Well, I'll email also, but this may apply to other people, so\\nI'll post also.)\\n\\n>I've been working at this company for eight years in various\\n>engineering jobs.  I'm female.  Yesterday I counted and realized that\\n>on seven different occasions I've been sexually harrassed at this\\n>company.\\n\\n>I dreaded coming back to work today.  What if my boss comes in to ask\\n>me some kind of question...\\n\\nYour boss should be the person bring these problems to.  If he/she\\ndoes not seem to take any action, keep going up higher and higher.\\nSexual harrassment does not need to be tolerated, and it can be an\\nenormous emotional support to discuss this with someone and know that\\nthey are trying to do something about it.  If you feel you can not\\ndiscuss this with your boss, perhaps your company has a personnel\\ndepartment that can work for you while preserving your privacy.  Most\\ncompanies will want to deal with this problem because constant anxiety\\ndoes seriously affect how effectively employees do their jobs.\\n\\nIt is unclear from your letter if you have done this or not.  It is\\nnot inconceivable that management remains ignorant of employee\\nproblems/strife even after eight years (it's a miracle if they do\\nnotice).  Perhaps your manager did not bring to the attention of\\nhigher ups?  If the company indeed does seem to want to ignore the\\nentire problem, there may be a state agency willing to fight with\\nyou.  (check with a lawyer, a women's resource center, etc to find out)\\n\\nYou may also want to discuss this with your paster, priest, husband,\\netc.  That is, someone you know will not be judgemental and that is\\nsupportive, comforting, etc.  This will bring a lot of healing.\\n\\n>So I returned at 11:25, only to find that ever single\\n>person had already left for lunch.  They left at 11:15 or so.  No one\\n>could be bothered to call me at the other building, even though my\\n>number was posted.\\n\\nThis happens to a lot of people.  Honest.  I believe it may seem\\nto be due to gross insensitivity because of the feelings you are\\ngoing through.  People in offices tend to be more insensitive while\\nworking than they normally are (maybe it's the hustle or stress or...)\\nI've had this happen to me a lot, often because they didn't realize\\nmy car was broken, etc.  Then they will come back and wonder why I\\ndidn't want to go (this would tend to make me stop being angry at\\nbeing ignored and make me laugh).  Once, we went off without our\\nboss, who was paying for the lunch :-)\\n\\n>For this\\n>reason I hope good Mr. Moderator allows me this latest indulgence.\\n\\nWell, if you can't turn to the computer for support, what would\\nwe do?  (signs of the computer age :-)\\n\\nIn closing, please don't let the hateful actions of a single person\\nharm you.  They are doing it because they are still the playground\\nbully and enjoy seeing the hurt they cause.  And you should not\\naccept the opinions of an imbecile that you are worthless - much\\nwiser people hold you in great esteem.\\n-- \\nDarin Johnson\\ndjohnson@ucsd.edu\\n  - Luxury!  In MY day, we had to make do with 5 bytes of swap...\\n\",\n",
              " 'From: s0612596@let.rug.nl (M.M. Zwart)\\nSubject: catholic church poland\\nOrganization: Faculteit der Letteren, Rijksuniversiteit Groningen, NL\\nLines: 10\\n\\nHello,\\n\\nI\\'m writing a paper on the role of the catholic church in Poland after 1989. \\nCan anyone tell me more about this, or fill me in on recent books/articles(\\nin english, german or french). Most important for me is the role of the \\nchurch concerning the abortion-law, religious education at schools,\\nbirth-control and the relation church-state(government). Thanx,\\n\\n                                                 Masja,\\n\"M.M.Zwart\"<s0612596@let.rug.nl>\\n',\n",
              " 'From: stanly@grok11.columbiasc.ncr.com (stanly)\\nSubject: Re: Elder Brother\\nOrganization: NCR Corp., Columbia SC\\nLines: 15\\n\\nIn article <Apr.8.00.57.41.1993.28246@athos.rutgers.edu> REXLEX@fnal.gov writes:\\n>In article <Apr.7.01.56.56.1993.22824@athos.rutgers.edu> shrum@hpfcso.fc.hp.com\\n>Matt. 22:9-14 \\'Go therefore to the main highways, and as many as you find\\n>there, invite to the wedding feast.\\'...\\n\\n>hmmmmmm.  Sounds like your theology and Christ\\'s are at odds. Which one am I \\n>to believe?\\n\\nIn this parable, Jesus tells the parable of the wedding feast. \"The kingdom\\nof heaven is like unto a certain king which made a marriage for his son\".\\nSo the wedding clothes were customary,  and \"given\" to those who \"chose\" to\\nattend.  This man \"refused\" to wear the clothes.  The wedding clothes are\\nequalivant to the \"clothes of righteousness\".  When Jesus died for our sins,\\nthose \"clothes\" were then provided.  Like that man, it is our decision to\\nput the clothes on.\\n']"
            ]
          },
          "metadata": {
            "tags": []
          },
          "execution_count": 132
        }
      ]
    },
    {
      "cell_type": "markdown",
      "metadata": {
        "id": "hTz4EaN_1WGc",
        "colab_type": "text"
      },
      "source": [
        "### 9.  Now with dependent and independent data available for both train and test datasets, using TfidfVectorizer fit and transform the training data and test data and get the tfidf features for both"
      ]
    },
    {
      "cell_type": "code",
      "metadata": {
        "id": "H5G477f81C0Z",
        "colab_type": "code",
        "colab": {
          "base_uri": "https://localhost:8080/",
          "height": 187
        },
        "outputId": "315407c7-b135-4a45-df62-d0b6afd1b8c9"
      },
      "source": [
        "for t in twenty_train.target[:10]:\n",
        "             print(twenty_train.target_names[t])"
      ],
      "execution_count": 133,
      "outputs": [
        {
          "output_type": "stream",
          "text": [
            "comp.graphics\n",
            "comp.graphics\n",
            "soc.religion.christian\n",
            "soc.religion.christian\n",
            "soc.religion.christian\n",
            "soc.religion.christian\n",
            "soc.religion.christian\n",
            "sci.med\n",
            "sci.med\n",
            "sci.med\n"
          ],
          "name": "stdout"
        }
      ]
    },
    {
      "cell_type": "code",
      "metadata": {
        "id": "VdO0Na1ZlugX",
        "colab_type": "code",
        "colab": {
          "base_uri": "https://localhost:8080/",
          "height": 34
        },
        "outputId": "461ba55e-3a13-4545-b5a6-21d42ad9cfd4"
      },
      "source": [
        "from sklearn.feature_extraction.text import CountVectorizer\n",
        "count_vect = CountVectorizer()\n",
        "X_train_counts = count_vect.fit_transform(twenty_train.data)\n",
        "X_train_counts.shape"
      ],
      "execution_count": 134,
      "outputs": [
        {
          "output_type": "execute_result",
          "data": {
            "text/plain": [
              "(2257, 35788)"
            ]
          },
          "metadata": {
            "tags": []
          },
          "execution_count": 134
        }
      ]
    },
    {
      "cell_type": "code",
      "metadata": {
        "id": "xxQYEPUNlux4",
        "colab_type": "code",
        "colab": {
          "base_uri": "https://localhost:8080/",
          "height": 34
        },
        "outputId": "4ee1d18b-000d-4922-e222-7b0d41277d00"
      },
      "source": [
        "count_vect.vocabulary_.get(u'algorithm')"
      ],
      "execution_count": 135,
      "outputs": [
        {
          "output_type": "execute_result",
          "data": {
            "text/plain": [
              "4690"
            ]
          },
          "metadata": {
            "tags": []
          },
          "execution_count": 135
        }
      ]
    },
    {
      "cell_type": "code",
      "metadata": {
        "id": "Qt3E-W0OlusL",
        "colab_type": "code",
        "colab": {
          "base_uri": "https://localhost:8080/",
          "height": 34
        },
        "outputId": "ed89fba7-dfbc-4b38-b2aa-06a512e65679"
      },
      "source": [
        "from sklearn.feature_extraction.text import TfidfTransformer\n",
        "tf_transformer = TfidfTransformer(use_idf=False).fit(X_train_counts)\n",
        "X_train_tf = tf_transformer.transform(X_train_counts)\n",
        "X_train_tf.shape"
      ],
      "execution_count": 136,
      "outputs": [
        {
          "output_type": "execute_result",
          "data": {
            "text/plain": [
              "(2257, 35788)"
            ]
          },
          "metadata": {
            "tags": []
          },
          "execution_count": 136
        }
      ]
    },
    {
      "cell_type": "code",
      "metadata": {
        "id": "LWPpnj3qluqA",
        "colab_type": "code",
        "colab": {
          "base_uri": "https://localhost:8080/",
          "height": 34
        },
        "outputId": "54a30eb9-f517-450d-8f75-8d3e3f35c78b"
      },
      "source": [
        "tfidf_transformer = TfidfTransformer()\n",
        "X_train_tfidf = tfidf_transformer.fit_transform(X_train_counts)\n",
        "X_train_tfidf.shape"
      ],
      "execution_count": 137,
      "outputs": [
        {
          "output_type": "execute_result",
          "data": {
            "text/plain": [
              "(2257, 35788)"
            ]
          },
          "metadata": {
            "tags": []
          },
          "execution_count": 137
        }
      ]
    },
    {
      "cell_type": "code",
      "metadata": {
        "id": "aVhGO5P8lukD",
        "colab_type": "code",
        "colab": {}
      },
      "source": [
        ""
      ],
      "execution_count": 0,
      "outputs": []
    },
    {
      "cell_type": "markdown",
      "metadata": {
        "id": "tp_fDINJ1t4L",
        "colab_type": "text"
      },
      "source": [
        "### 10. Use logisticRegression with tfidf features as input and targets as output and train the model and report the train and test accuracy score"
      ]
    },
    {
      "cell_type": "code",
      "metadata": {
        "id": "THlN2b5d1yQp",
        "colab_type": "code",
        "colab": {}
      },
      "source": [
        "from sklearn.linear_model import LogisticRegression"
      ],
      "execution_count": 0,
      "outputs": []
    },
    {
      "cell_type": "code",
      "metadata": {
        "id": "BOWkYe6ol3wP",
        "colab_type": "code",
        "colab": {
          "base_uri": "https://localhost:8080/",
          "height": 105
        },
        "outputId": "8016e272-b60e-4429-afbd-0fe716fd62f8"
      },
      "source": [
        "clf = LogisticRegression().fit(X_train_tfidf, twenty_train.target)"
      ],
      "execution_count": 139,
      "outputs": [
        {
          "output_type": "stream",
          "text": [
            "/usr/local/lib/python3.6/dist-packages/sklearn/linear_model/logistic.py:432: FutureWarning: Default solver will be changed to 'lbfgs' in 0.22. Specify a solver to silence this warning.\n",
            "  FutureWarning)\n",
            "/usr/local/lib/python3.6/dist-packages/sklearn/linear_model/logistic.py:469: FutureWarning: Default multi_class will be changed to 'auto' in 0.22. Specify the multi_class option to silence this warning.\n",
            "  \"this warning.\", FutureWarning)\n"
          ],
          "name": "stderr"
        }
      ]
    },
    {
      "cell_type": "code",
      "metadata": {
        "id": "Ki8xe4lfl3z3",
        "colab_type": "code",
        "colab": {
          "base_uri": "https://localhost:8080/",
          "height": 51
        },
        "outputId": "a8910ed0-2d7c-4321-ac10-e5d2e763d0b0"
      },
      "source": [
        "docs_new = ['God is great', 'Open file on the GPU is fast']\n",
        "X_new_counts = count_vect.transform(docs_new)\n",
        "X_new_tfidf = tfidf_transformer.transform(X_new_counts)\n",
        "\n",
        "predicted = clf.predict(X_new_tfidf)\n",
        "\n",
        "for doc, category in zip(docs_new, predicted):\n",
        "     print('%r => %s' % (doc, twenty_train.target_names[category]))"
      ],
      "execution_count": 141,
      "outputs": [
        {
          "output_type": "stream",
          "text": [
            "'God is great' => soc.religion.christian\n",
            "'Open file on the GPU is fast' => comp.graphics\n"
          ],
          "name": "stdout"
        }
      ]
    },
    {
      "cell_type": "code",
      "metadata": {
        "id": "Nsr9tUxXl36z",
        "colab_type": "code",
        "colab": {}
      },
      "source": [
        "from sklearn.pipeline import Pipeline\n",
        "text_clf = Pipeline([\n",
        "     ('vect', CountVectorizer()),\n",
        "     ('tfidf', TfidfTransformer()),\n",
        "     ('clf', LogisticRegression()),\n",
        " ])"
      ],
      "execution_count": 0,
      "outputs": []
    },
    {
      "cell_type": "code",
      "metadata": {
        "id": "CsqsC4_Cl3-N",
        "colab_type": "code",
        "colab": {
          "base_uri": "https://localhost:8080/",
          "height": 496
        },
        "outputId": "5fd177c4-00cb-4e6c-a152-1aa1532e4cfa"
      },
      "source": [
        "text_clf.fit(twenty_train.data, twenty_train.target)\n"
      ],
      "execution_count": 143,
      "outputs": [
        {
          "output_type": "stream",
          "text": [
            "/usr/local/lib/python3.6/dist-packages/sklearn/linear_model/logistic.py:432: FutureWarning: Default solver will be changed to 'lbfgs' in 0.22. Specify a solver to silence this warning.\n",
            "  FutureWarning)\n",
            "/usr/local/lib/python3.6/dist-packages/sklearn/linear_model/logistic.py:469: FutureWarning: Default multi_class will be changed to 'auto' in 0.22. Specify the multi_class option to silence this warning.\n",
            "  \"this warning.\", FutureWarning)\n"
          ],
          "name": "stderr"
        },
        {
          "output_type": "execute_result",
          "data": {
            "text/plain": [
              "Pipeline(memory=None,\n",
              "         steps=[('vect',\n",
              "                 CountVectorizer(analyzer='word', binary=False,\n",
              "                                 decode_error='strict',\n",
              "                                 dtype=<class 'numpy.int64'>, encoding='utf-8',\n",
              "                                 input='content', lowercase=True, max_df=1.0,\n",
              "                                 max_features=None, min_df=1,\n",
              "                                 ngram_range=(1, 1), preprocessor=None,\n",
              "                                 stop_words=None, strip_accents=None,\n",
              "                                 token_pattern='(?u)\\\\b\\\\w\\\\w+\\\\b',\n",
              "                                 tokenizer=None, vocabulary=None)),\n",
              "                ('tfidf',\n",
              "                 TfidfTransformer(norm='l2', smooth_idf=True,\n",
              "                                  sublinear_tf=False, use_idf=True)),\n",
              "                ('clf',\n",
              "                 LogisticRegression(C=1.0, class_weight=None, dual=False,\n",
              "                                    fit_intercept=True, intercept_scaling=1,\n",
              "                                    l1_ratio=None, max_iter=100,\n",
              "                                    multi_class='warn', n_jobs=None,\n",
              "                                    penalty='l2', random_state=None,\n",
              "                                    solver='warn', tol=0.0001, verbose=0,\n",
              "                                    warm_start=False))],\n",
              "         verbose=False)"
            ]
          },
          "metadata": {
            "tags": []
          },
          "execution_count": 143
        }
      ]
    },
    {
      "cell_type": "code",
      "metadata": {
        "id": "fsxBT-o2l_UD",
        "colab_type": "code",
        "colab": {
          "base_uri": "https://localhost:8080/",
          "height": 34
        },
        "outputId": "1d2c5771-cb0f-4e4c-e74f-7700d2a24cd9"
      },
      "source": [
        "import numpy as np\n",
        "twenty_test = fetch_20newsgroups(subset='test',\n",
        "     categories=categories, shuffle=True, random_state=42)\n",
        "docs_test = twenty_test.data\n",
        "predicted = text_clf.predict(docs_test)\n",
        "np.mean(predicted == twenty_test.target)"
      ],
      "execution_count": 144,
      "outputs": [
        {
          "output_type": "execute_result",
          "data": {
            "text/plain": [
              "0.8868175765645806"
            ]
          },
          "metadata": {
            "tags": []
          },
          "execution_count": 144
        }
      ]
    }
  ]
}