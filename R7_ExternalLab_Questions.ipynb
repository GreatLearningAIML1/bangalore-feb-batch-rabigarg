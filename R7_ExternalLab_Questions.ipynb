{
 "cells": [
  {
   "cell_type": "markdown",
   "metadata": {
    "colab_type": "text",
    "id": "4WH1Pr4KQlCh"
   },
   "source": [
    "### Build a DNN using Keras with `RELU` and `ADAM`"
   ]
  },
  {
   "cell_type": "markdown",
   "metadata": {
    "colab_type": "text",
    "id": "TbvI8LqlQlCl",
    "slideshow": {
     "slide_type": "slide"
    }
   },
   "source": [
    "#### Load tensorflow"
   ]
  },
  {
   "cell_type": "code",
   "execution_count": 1,
   "metadata": {
    "colab": {},
    "colab_type": "code",
    "id": "SPW-a-qYQlCp"
   },
   "outputs": [],
   "source": [
    "import tensorflow as tf"
   ]
  },
  {
   "cell_type": "markdown",
   "metadata": {
    "colab_type": "text",
    "id": "74cQBsi5QlCw",
    "slideshow": {
     "slide_type": "slide"
    }
   },
   "source": [
    "#### Collect Fashion mnist data from tf.keras.datasets "
   ]
  },
  {
   "cell_type": "code",
   "execution_count": 2,
   "metadata": {
    "colab": {},
    "colab_type": "code",
    "id": "wVWy0oDTr2Kj"
   },
   "outputs": [
    {
     "name": "stderr",
     "output_type": "stream",
     "text": [
      "Using TensorFlow backend.\n"
     ]
    }
   ],
   "source": [
    "from keras.datasets import fashion_mnist\n",
    "(x_train, y_train), (x_test, y_test) = fashion_mnist.load_data()"
   ]
  },
  {
   "cell_type": "markdown",
   "metadata": {
    "colab_type": "text",
    "id": "no7aWYZyQlC1",
    "slideshow": {
     "slide_type": "slide"
    }
   },
   "source": [
    "#### Change train and test labels into one-hot vectors"
   ]
  },
  {
   "cell_type": "code",
   "execution_count": 5,
   "metadata": {},
   "outputs": [
    {
     "data": {
      "text/plain": [
       "(60000,)"
      ]
     },
     "execution_count": 5,
     "metadata": {},
     "output_type": "execute_result"
    }
   ],
   "source": [
    "y_train.shape"
   ]
  },
  {
   "cell_type": "code",
   "execution_count": 6,
   "metadata": {},
   "outputs": [
    {
     "data": {
      "text/plain": [
       "array([9, 0, 0, ..., 3, 0, 5], dtype=uint8)"
      ]
     },
     "execution_count": 6,
     "metadata": {},
     "output_type": "execute_result"
    }
   ],
   "source": [
    "y_train"
   ]
  },
  {
   "cell_type": "code",
   "execution_count": 7,
   "metadata": {},
   "outputs": [
    {
     "data": {
      "text/plain": [
       "(10000,)"
      ]
     },
     "execution_count": 7,
     "metadata": {},
     "output_type": "execute_result"
    }
   ],
   "source": [
    "y_test.shape"
   ]
  },
  {
   "cell_type": "code",
   "execution_count": 8,
   "metadata": {
    "colab": {},
    "colab_type": "code",
    "id": "UX6otc4wQlC2"
   },
   "outputs": [],
   "source": [
    "trainY = tf.keras.utils.to_categorical(y_train)\n",
    "testY = tf.keras.utils.to_categorical(y_test)"
   ]
  },
  {
   "cell_type": "markdown",
   "metadata": {
    "colab_type": "text",
    "id": "QjNrRTdoQlC5",
    "slideshow": {
     "slide_type": "slide"
    }
   },
   "source": [
    "#### Build the Graph"
   ]
  },
  {
   "cell_type": "markdown",
   "metadata": {
    "colab_type": "text",
    "id": "CDJ9DHVNQlC7"
   },
   "source": [
    "#### Initialize model, reshape & normalize data"
   ]
  },
  {
   "cell_type": "code",
   "execution_count": 9,
   "metadata": {
    "colab": {
     "base_uri": "https://localhost:8080/",
     "height": 88
    },
    "colab_type": "code",
    "id": "pCDQs_g1QlC8",
    "outputId": "e854b4d2-903a-4515-c21b-bd6a6e4fe2f8"
   },
   "outputs": [],
   "source": [
    "x_train=x_train.astype('float32')/255\n",
    "x_test=x_test.astype('float32')/255"
   ]
  },
  {
   "cell_type": "code",
   "execution_count": 10,
   "metadata": {},
   "outputs": [],
   "source": [
    "x_train=x_train.reshape((x_train.shape[0],28,28,1))\n",
    "x_test=x_test.reshape((x_test.shape[0],28,28,1))"
   ]
  },
  {
   "cell_type": "code",
   "execution_count": 11,
   "metadata": {},
   "outputs": [
    {
     "data": {
      "text/plain": [
       "(60000, 28, 28, 1)"
      ]
     },
     "execution_count": 11,
     "metadata": {},
     "output_type": "execute_result"
    }
   ],
   "source": [
    "x_train.shape"
   ]
  },
  {
   "cell_type": "code",
   "execution_count": 12,
   "metadata": {},
   "outputs": [
    {
     "data": {
      "text/plain": [
       "(60000, 10)"
      ]
     },
     "execution_count": 12,
     "metadata": {},
     "output_type": "execute_result"
    }
   ],
   "source": [
    "trainY.shape"
   ]
  },
  {
   "cell_type": "code",
   "execution_count": 13,
   "metadata": {},
   "outputs": [
    {
     "data": {
      "text/plain": [
       "(60000,)"
      ]
     },
     "execution_count": 13,
     "metadata": {},
     "output_type": "execute_result"
    }
   ],
   "source": [
    "y_train.shape"
   ]
  },
  {
   "cell_type": "code",
   "execution_count": 14,
   "metadata": {},
   "outputs": [
    {
     "data": {
      "text/plain": [
       "array([9, 0, 0, ..., 3, 0, 5], dtype=uint8)"
      ]
     },
     "execution_count": 14,
     "metadata": {},
     "output_type": "execute_result"
    }
   ],
   "source": [
    "y_train"
   ]
  },
  {
   "cell_type": "code",
   "execution_count": 15,
   "metadata": {},
   "outputs": [
    {
     "data": {
      "text/plain": [
       "array([[0., 0., 0., ..., 0., 0., 1.],\n",
       "       [1., 0., 0., ..., 0., 0., 0.],\n",
       "       [1., 0., 0., ..., 0., 0., 0.],\n",
       "       ...,\n",
       "       [0., 0., 0., ..., 0., 0., 0.],\n",
       "       [1., 0., 0., ..., 0., 0., 0.],\n",
       "       [0., 0., 0., ..., 0., 0., 0.]], dtype=float32)"
      ]
     },
     "execution_count": 15,
     "metadata": {},
     "output_type": "execute_result"
    }
   ],
   "source": [
    "trainY"
   ]
  },
  {
   "cell_type": "raw",
   "metadata": {},
   "source": []
  },
  {
   "cell_type": "markdown",
   "metadata": {
    "colab_type": "text",
    "id": "kBGwTTilQlDD",
    "slideshow": {
     "slide_type": "slide"
    }
   },
   "source": [
    "#### Add two fully connected layers with 200 and 100 neurons respectively with `relu` activations. Add a dropout layer with `p=0.25`"
   ]
  },
  {
   "cell_type": "code",
   "execution_count": null,
   "metadata": {
    "colab": {
     "base_uri": "https://localhost:8080/",
     "height": 88
    },
    "colab_type": "code",
    "id": "IXbfpfOzQlDF",
    "outputId": "f46a2e3a-2634-4e9e-88bd-57bb8de1ff0c"
   },
   "outputs": [],
   "source": []
  },
  {
   "cell_type": "code",
   "execution_count": 17,
   "metadata": {},
   "outputs": [],
   "source": [
    "from tensorflow.python.keras import Sequential\n",
    "model = tf.keras.models.Sequential()\n",
    "model.add(tf.keras.layers.Flatten())\n",
    "#model.add(tf.keras.layers.Reshape((784,),input_shape=(28,28,)))"
   ]
  },
  {
   "cell_type": "code",
   "execution_count": 18,
   "metadata": {},
   "outputs": [],
   "source": [
    "model.add(tf.keras.layers.Dense(200, activation='relu'))\n",
    "model.add(tf.keras.layers.Dense(100, activation='relu'))\n",
    "model.add(tf.keras.layers.Dropout(0.25))"
   ]
  },
  {
   "cell_type": "code",
   "execution_count": null,
   "metadata": {},
   "outputs": [],
   "source": []
  },
  {
   "cell_type": "markdown",
   "metadata": {
    "colab_type": "text",
    "id": "5I8f5otcQlDJ"
   },
   "source": [
    "### Add the output layer with a fully connected layer with 10 neurons with `softmax` activation. Use `categorical_crossentropy` loss and `adam` optimizer and train the network. And, report the final validation."
   ]
  },
  {
   "cell_type": "code",
   "execution_count": 19,
   "metadata": {},
   "outputs": [],
   "source": [
    "#Output layer\n",
    "model.add(tf.keras.layers.Dense(10, activation='softmax'))"
   ]
  },
  {
   "cell_type": "code",
   "execution_count": 20,
   "metadata": {},
   "outputs": [
    {
     "name": "stdout",
     "output_type": "stream",
     "text": [
      "WARNING:tensorflow:From C:\\Users\\Sony\\Anaconda3\\lib\\site-packages\\tensorflow\\python\\ops\\resource_variable_ops.py:435: colocate_with (from tensorflow.python.framework.ops) is deprecated and will be removed in a future version.\n",
      "Instructions for updating:\n",
      "Colocations handled automatically by placer.\n"
     ]
    }
   ],
   "source": [
    "model.compile(optimizer='adam', loss='categorical_crossentropy', metrics=['accuracy'])"
   ]
  },
  {
   "cell_type": "code",
   "execution_count": 21,
   "metadata": {
    "colab": {},
    "colab_type": "code",
    "id": "JZkvKymSd0Sr"
   },
   "outputs": [
    {
     "name": "stdout",
     "output_type": "stream",
     "text": [
      "WARNING:tensorflow:From C:\\Users\\Sony\\Anaconda3\\lib\\site-packages\\tensorflow\\python\\keras\\layers\\core.py:143: calling dropout (from tensorflow.python.ops.nn_ops) with keep_prob is deprecated and will be removed in a future version.\n",
      "Instructions for updating:\n",
      "Please use `rate` instead of `keep_prob`. Rate should be set to `rate = 1 - keep_prob`.\n",
      "Train on 60000 samples, validate on 10000 samples\n",
      "WARNING:tensorflow:From C:\\Users\\Sony\\Anaconda3\\lib\\site-packages\\tensorflow\\python\\ops\\math_ops.py:3066: to_int32 (from tensorflow.python.ops.math_ops) is deprecated and will be removed in a future version.\n",
      "Instructions for updating:\n",
      "Use tf.cast instead.\n",
      "Epoch 1/50\n",
      "60000/60000 [==============================] - 24s 393us/sample - loss: 0.5176 - acc: 0.8132 - val_loss: 0.4321 - val_acc: 0.8376\n",
      "Epoch 2/50\n",
      "60000/60000 [==============================] - 19s 313us/sample - loss: 0.3856 - acc: 0.8595 - val_loss: 0.3948 - val_acc: 0.8571\n",
      "Epoch 3/50\n",
      "60000/60000 [==============================] - 19s 319us/sample - loss: 0.3476 - acc: 0.8745 - val_loss: 0.3562 - val_acc: 0.8717\n",
      "Epoch 4/50\n",
      "60000/60000 [==============================] - 20s 339us/sample - loss: 0.3233 - acc: 0.8820 - val_loss: 0.3645 - val_acc: 0.8652\n",
      "Epoch 5/50\n",
      "60000/60000 [==============================] - 19s 320us/sample - loss: 0.3065 - acc: 0.8872 - val_loss: 0.3783 - val_acc: 0.8591\n",
      "Epoch 6/50\n",
      "60000/60000 [==============================] - 21s 342us/sample - loss: 0.2927 - acc: 0.8915 - val_loss: 0.3811 - val_acc: 0.8634\n",
      "Epoch 7/50\n",
      "60000/60000 [==============================] - 21s 349us/sample - loss: 0.2787 - acc: 0.8959 - val_loss: 0.3449 - val_acc: 0.8793\n",
      "Epoch 8/50\n",
      "60000/60000 [==============================] - 22s 360us/sample - loss: 0.2678 - acc: 0.9007 - val_loss: 0.3643 - val_acc: 0.8753\n",
      "Epoch 9/50\n",
      "60000/60000 [==============================] - 21s 354us/sample - loss: 0.2615 - acc: 0.9018 - val_loss: 0.3400 - val_acc: 0.8790\n",
      "Epoch 10/50\n",
      "60000/60000 [==============================] - 29s 481us/sample - loss: 0.2508 - acc: 0.9047 - val_loss: 0.3431 - val_acc: 0.8823\n",
      "Epoch 11/50\n",
      "60000/60000 [==============================] - 25s 421us/sample - loss: 0.2442 - acc: 0.9070 - val_loss: 0.3331 - val_acc: 0.8875\n",
      "Epoch 12/50\n",
      "60000/60000 [==============================] - 24s 401us/sample - loss: 0.2400 - acc: 0.9086 - val_loss: 0.3310 - val_acc: 0.8879\n",
      "Epoch 13/50\n",
      "60000/60000 [==============================] - 29s 479us/sample - loss: 0.2322 - acc: 0.9134 - val_loss: 0.3626 - val_acc: 0.8839\n",
      "Epoch 14/50\n",
      "60000/60000 [==============================] - 24s 392us/sample - loss: 0.2250 - acc: 0.9140 - val_loss: 0.3736 - val_acc: 0.8800\n",
      "Epoch 15/50\n",
      "60000/60000 [==============================] - 24s 398us/sample - loss: 0.2193 - acc: 0.9169 - val_loss: 0.3506 - val_acc: 0.8851\n",
      "Epoch 16/50\n",
      "60000/60000 [==============================] - 19s 323us/sample - loss: 0.2163 - acc: 0.9169 - val_loss: 0.3362 - val_acc: 0.8905\n",
      "Epoch 17/50\n",
      "60000/60000 [==============================] - 21s 347us/sample - loss: 0.2118 - acc: 0.9190 - val_loss: 0.3424 - val_acc: 0.8916\n",
      "Epoch 18/50\n",
      "60000/60000 [==============================] - 25s 424us/sample - loss: 0.2059 - acc: 0.9215 - val_loss: 0.3476 - val_acc: 0.8857\n",
      "Epoch 19/50\n",
      "60000/60000 [==============================] - 22s 364us/sample - loss: 0.1997 - acc: 0.9237 - val_loss: 0.3453 - val_acc: 0.8869\n",
      "Epoch 20/50\n",
      "60000/60000 [==============================] - 23s 382us/sample - loss: 0.1975 - acc: 0.9249 - val_loss: 0.3509 - val_acc: 0.8908\n",
      "Epoch 21/50\n",
      "60000/60000 [==============================] - 20s 339us/sample - loss: 0.1928 - acc: 0.9254 - val_loss: 0.3633 - val_acc: 0.8908\n",
      "Epoch 22/50\n",
      "60000/60000 [==============================] - 23s 378us/sample - loss: 0.1883 - acc: 0.9262 - val_loss: 0.3626 - val_acc: 0.8912\n",
      "Epoch 23/50\n",
      "60000/60000 [==============================] - 24s 403us/sample - loss: 0.1818 - acc: 0.9291 - val_loss: 0.3649 - val_acc: 0.8866\n",
      "Epoch 24/50\n",
      "60000/60000 [==============================] - 23s 391us/sample - loss: 0.1798 - acc: 0.9309 - val_loss: 0.4020 - val_acc: 0.8843\n",
      "Epoch 25/50\n",
      "60000/60000 [==============================] - 24s 397us/sample - loss: 0.1776 - acc: 0.9315 - val_loss: 0.3734 - val_acc: 0.8863\n",
      "Epoch 26/50\n",
      "60000/60000 [==============================] - 35s 576us/sample - loss: 0.1793 - acc: 0.9321 - val_loss: 0.3912 - val_acc: 0.8867\n",
      "Epoch 27/50\n",
      "60000/60000 [==============================] - 25s 411us/sample - loss: 0.1697 - acc: 0.9350 - val_loss: 0.4005 - val_acc: 0.8899\n",
      "Epoch 28/50\n",
      "60000/60000 [==============================] - 20s 328us/sample - loss: 0.1688 - acc: 0.9340 - val_loss: 0.4016 - val_acc: 0.8861\n",
      "Epoch 29/50\n",
      "60000/60000 [==============================] - 22s 361us/sample - loss: 0.1673 - acc: 0.9355 - val_loss: 0.3918 - val_acc: 0.8958\n",
      "Epoch 30/50\n",
      "60000/60000 [==============================] - 23s 378us/sample - loss: 0.1635 - acc: 0.9363 - val_loss: 0.4053 - val_acc: 0.8919\n",
      "Epoch 31/50\n",
      "60000/60000 [==============================] - 21s 358us/sample - loss: 0.1597 - acc: 0.9382 - val_loss: 0.4026 - val_acc: 0.8922\n",
      "Epoch 32/50\n",
      "60000/60000 [==============================] - 21s 353us/sample - loss: 0.1574 - acc: 0.9387 - val_loss: 0.4202 - val_acc: 0.8881\n",
      "Epoch 33/50\n",
      "60000/60000 [==============================] - 28s 466us/sample - loss: 0.1589 - acc: 0.9391 - val_loss: 0.4098 - val_acc: 0.8908\n",
      "Epoch 34/50\n",
      "60000/60000 [==============================] - 31s 524us/sample - loss: 0.1530 - acc: 0.9398 - val_loss: 0.4299 - val_acc: 0.8931\n",
      "Epoch 35/50\n",
      "60000/60000 [==============================] - 39s 656us/sample - loss: 0.1532 - acc: 0.9403 - val_loss: 0.4280 - val_acc: 0.8889\n",
      "Epoch 36/50\n",
      "60000/60000 [==============================] - 43s 723us/sample - loss: 0.1500 - acc: 0.9416 - val_loss: 0.4279 - val_acc: 0.8929\n",
      "Epoch 37/50\n",
      "60000/60000 [==============================] - 56s 928us/sample - loss: 0.1451 - acc: 0.9435 - val_loss: 0.4226 - val_acc: 0.8933\n",
      "Epoch 38/50\n",
      "60000/60000 [==============================] - 35s 576us/sample - loss: 0.1449 - acc: 0.9433 - val_loss: 0.4145 - val_acc: 0.8919\n",
      "Epoch 39/50\n",
      "60000/60000 [==============================] - 46s 770us/sample - loss: 0.1417 - acc: 0.9452 - val_loss: 0.4628 - val_acc: 0.8843\n",
      "Epoch 40/50\n",
      "60000/60000 [==============================] - 39s 643us/sample - loss: 0.1419 - acc: 0.9456 - val_loss: 0.4680 - val_acc: 0.8861 - loss: 0.1426 - acc -\n",
      "Epoch 41/50\n",
      "60000/60000 [==============================] - 31s 510us/sample - loss: 0.1416 - acc: 0.9447 - val_loss: 0.4522 - val_acc: 0.8897\n",
      "Epoch 42/50\n",
      "60000/60000 [==============================] - 44s 736us/sample - loss: 0.1373 - acc: 0.9460 - val_loss: 0.4807 - val_acc: 0.8876\n",
      "Epoch 43/50\n",
      "60000/60000 [==============================] - 40s 660us/sample - loss: 0.1385 - acc: 0.9453 - val_loss: 0.4563 - val_acc: 0.8932\n",
      "Epoch 44/50\n",
      "60000/60000 [==============================] - 35s 588us/sample - loss: 0.1325 - acc: 0.9489 - val_loss: 0.4802 - val_acc: 0.8957\n",
      "Epoch 45/50\n",
      "60000/60000 [==============================] - 46s 775us/sample - loss: 0.1350 - acc: 0.9478 - val_loss: 0.4495 - val_acc: 0.8893\n",
      "Epoch 46/50\n",
      "60000/60000 [==============================] - 39s 651us/sample - loss: 0.1308 - acc: 0.9495 - val_loss: 0.4972 - val_acc: 0.8938\n",
      "Epoch 47/50\n",
      "60000/60000 [==============================] - 22s 370us/sample - loss: 0.1287 - acc: 0.9498 - val_loss: 0.4761 - val_acc: 0.8946\n",
      "Epoch 48/50\n",
      "60000/60000 [==============================] - 38s 626us/sample - loss: 0.1252 - acc: 0.9516 - val_loss: 0.4880 - val_acc: 0.8935\n",
      "Epoch 49/50\n",
      "60000/60000 [==============================] - 37s 618us/sample - loss: 0.1269 - acc: 0.9498 - val_loss: 0.4760 - val_acc: 0.8938\n",
      "Epoch 50/50\n",
      "60000/60000 [==============================] - 35s 578us/sample - loss: 0.1262 - acc: 0.9512 - val_loss: 0.5183 - val_acc: 0.8954\n"
     ]
    },
    {
     "data": {
      "text/plain": [
       "<tensorflow.python.keras.callbacks.History at 0x1156e1d0>"
      ]
     },
     "execution_count": 21,
     "metadata": {},
     "output_type": "execute_result"
    }
   ],
   "source": [
    "model.fit(x_train,trainY,          \n",
    "          validation_data=(x_test,testY),\n",
    "          epochs=50,\n",
    "          batch_size=32)"
   ]
  },
  {
   "cell_type": "code",
   "execution_count": null,
   "metadata": {},
   "outputs": [],
   "source": [
    "print(\"train score: \", model.evaluate(x_train,trainY))"
   ]
  },
  {
   "cell_type": "code",
   "execution_count": null,
   "metadata": {},
   "outputs": [],
   "source": [
    "print(\"test score: \", model.evaluate(x_test,testY))"
   ]
  },
  {
   "cell_type": "code",
   "execution_count": null,
   "metadata": {},
   "outputs": [],
   "source": [
    "model.summary()"
   ]
  }
 ],
 "metadata": {
  "colab": {
   "collapsed_sections": [],
   "name": "Updated_R7_ExternalLab_Questions.ipynb",
   "provenance": [],
   "version": "0.3.2"
  },
  "kernelspec": {
   "display_name": "Python 3",
   "language": "python",
   "name": "python3"
  },
  "language_info": {
   "codemirror_mode": {
    "name": "ipython",
    "version": 3
   },
   "file_extension": ".py",
   "mimetype": "text/x-python",
   "name": "python",
   "nbconvert_exporter": "python",
   "pygments_lexer": "ipython3",
   "version": "3.7.1"
  }
 },
 "nbformat": 4,
 "nbformat_minor": 1
}
